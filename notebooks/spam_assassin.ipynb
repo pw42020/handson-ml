{
 "cells": [
  {
   "cell_type": "code",
   "execution_count": null,
   "id": "3975e99f-f7e4-49a7-82da-7c9e285ddf03",
   "metadata": {},
   "outputs": [],
   "source": [
    "!pip install sortedcontainers\n",
    "!pip install tqdm"
   ]
  },
  {
   "cell_type": "code",
   "execution_count": null,
   "id": "ea4b0306-9998-4e0b-be61-4f3647c9d46c",
   "metadata": {},
   "outputs": [],
   "source": [
    "!pip install nltk"
   ]
  },
  {
   "cell_type": "code",
   "execution_count": null,
   "id": "0b2ee595-40b9-4eac-9229-0622ad5ee73d",
   "metadata": {},
   "outputs": [],
   "source": [
    "import numpy as np \n",
    "import pandas as pd \n",
    "import matplotlib.pyplot as plt\n",
    "import os\n",
    "from sklearn.feature_extraction.text import CountVectorizer\n",
    "from sklearn.model_selection import train_test_split\n",
    "from sklearn.ensemble import RandomForestClassifier\n",
    "from sklearn.model_selection import cross_val_predict\n",
    "\n",
    "import string\n",
    "import nltk\n",
    "from nltk.corpus import stopwords\n",
    "from nltk.stem.porter import PorterStemmer\n",
    "\n",
    "nltk.download('stopwords')"
   ]
  },
  {
   "cell_type": "code",
   "execution_count": null,
   "id": "071c3a03-0417-48dc-a480-0ab949b983f9",
   "metadata": {},
   "outputs": [],
   "source": [
    "# Write a data preparation pipeline to convert each email into a feature vector.\n",
    "# Your preparation pipeline should transform an email into a (sparse) vector\n",
    "# indicating the presence or absence of each possible word. For example, if all\n",
    "# emails only ever contain four words, “Hello,” “how,” “are,” “you,” then the email\n",
    "# “Hello you Hello Hello you” would be converted into a vector [1, 0, 0, 1]\n",
    "# (meaning [“Hello” is present, “how” is absent, “are” is absent, “you” is\n",
    "# present]), or [3, 0, 0, 2] if you prefer to count the number of occurrences of\n",
    "# each word.\n",
    "\n",
    "df = pd.read_csv(\"../data/spam_ham_dataset.csv\")\n",
    "\n",
    "# data transformation like taking out \\r\\n\n",
    "df['text'] = df['text'].apply(lambda text: text.replace('\\r\\n', ' '))\n",
    "\n",
    "stemmer = PorterStemmer()\n",
    "# stemmer.stem('sophisticated')\n",
    "corpus = []\n",
    "# stop words allow to not waste computation on stupid words\n",
    "# that don't matter\n",
    "stopwords_set = set(stopwords.words(\"english\"))\n",
    "for ii in tqdm(range(len(df))):\n",
    "    # make lowercase\n",
    "    text: str = df['text'].iloc[ii].lower()\n",
    "    # take out all punctuation\n",
    "    text = text.translate(str.maketrans('', '', string.punctuation)).split()\n",
    "    # bring down to base word --> sophisicated to sophist to minimize word count\n",
    "    text = [stemmer.stem(word) for word in text if word not in stopwords_set]\n",
    "    text = ' '.join(text)\n",
    "    corpus.append(text)\n",
    "\n",
    "print(len(corpus))\n",
    "print(df.info())\n",
    "# X, y = df['text'], df['label_num']\n",
    "\n",
    "# print(len(df))\n",
    "# n_train = 4500\n",
    "\n",
    "# X_train, X_test, y_train, y_test = X[:n_train], X[n_train:], y[:n_train], y[n_train:]\n",
    "\n",
    "# import numpy as np\n",
    "# shuffle_index = np.random.permutation(n_train)\n",
    "# # X_train, y_train = X_train[shuffle_index], y_train[shuffle_index]"
   ]
  },
  {
   "cell_type": "code",
   "execution_count": null,
   "id": "015f5852-9674-4f94-ab71-7ad07ce1976a",
   "metadata": {},
   "outputs": [],
   "source": [
    "vectorizer = CountVectorizer()\n",
    "\n",
    "X = vectorizer.fit_transform(corpus).toarray()\n",
    "y = df['label_num']\n",
    "\n",
    "X_train, X_test, y_train, y_test = train_test_split(X, y, test_size=0.2)"
   ]
  },
  {
   "cell_type": "code",
   "execution_count": null,
   "id": "ec66ce28-962a-418d-b9e2-c7da6e6b0bab",
   "metadata": {},
   "outputs": [],
   "source": [
    "clf = RandomForestClassifier(random_state=42, n_jobs=-1)\n",
    "clf.fit(X_train, y_train)\n",
    "y_probas_forest = cross_val_predict(clf, X_train, y_train, cv=3,\n",
    " method=\"predict_proba\")"
   ]
  },
  {
   "cell_type": "code",
   "execution_count": null,
   "id": "a1668df7-1ba0-4fc5-baaa-c5635d41cc4a",
   "metadata": {},
   "outputs": [],
   "source": [
    "# You may want to add hyperparameters to your preparation pipeline to control\n",
    "# whether or not to strip off email headers, convert each email to lowercase,\n",
    "# remove punctuation, replace all URLs with “URL,” replace all numbers with\n",
    "# “NUMBER,” or even perform stemming (i.e., trim off word endings; there are\n",
    "# Python libraries available to do this).\n",
    "# • Then try out several classifiers and see if you can build a great spam classifier,\n",
    "#   with both high recall and high precision.\n",
    "print(y_probas_forest)\n",
    "clf.score(X_test, y_test)\n",
    "\n"
   ]
  }
 ],
 "metadata": {
  "kernelspec": {
   "display_name": "Python 3 (ipykernel)",
   "language": "python",
   "name": "python3"
  },
  "language_info": {
   "codemirror_mode": {
    "name": "ipython",
    "version": 3
   },
   "file_extension": ".py",
   "mimetype": "text/x-python",
   "name": "python",
   "nbconvert_exporter": "python",
   "pygments_lexer": "ipython3",
   "version": "3.12.3"
  }
 },
 "nbformat": 4,
 "nbformat_minor": 5
}
